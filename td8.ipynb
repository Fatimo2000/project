{
 "cells": [
  {
   "cell_type": "code",
   "execution_count": 1,
   "id": "a7f587dc-8362-4d1b-ac8b-881fad457e6d",
   "metadata": {},
   "outputs": [
    {
     "name": "stderr",
     "output_type": "stream",
     "text": [
      "[nltk_data] Downloading package punkt_tab to\n",
      "[nltk_data]     /home/alireza/nltk_data...\n",
      "[nltk_data]   Package punkt_tab is already up-to-date!\n"
     ]
    },
    {
     "data": {
      "text/plain": [
       "True"
      ]
     },
     "execution_count": 1,
     "metadata": {},
     "output_type": "execute_result"
    }
   ],
   "source": [
    "import pandas as pd\n",
    "import nltk\n",
    "from nltk.tokenize import sent_tokenize, word_tokenize\n",
    "import os\n",
    "from models import Corpus, Document, SearchEngine  # Adjust based on your project structure\n",
    "\n",
    "nltk.download(\"punkt_tab\")\n"
   ]
  },
  {
   "cell_type": "code",
   "execution_count": 2,
   "id": "b4da9194-f2df-44ce-a6ca-a27040283e85",
   "metadata": {},
   "outputs": [
    {
     "name": "stdout",
     "output_type": "stream",
     "text": [
      "/home/alireza/Desktop/Fateme Project/pyproject\n"
     ]
    }
   ],
   "source": [
    "print(os.getcwd())\n",
    "file_path = './data/discours_US.csv'  # Update with the actual path to your CSV file\n",
    "with open(file_path, \"r+\") as file:\n",
    "    df = pd.read_csv(file, sep=\"\\t\")"
   ]
  },
  {
   "cell_type": "code",
   "execution_count": 3,
   "id": "b9cac886-6c29-488a-8b25-1cbc19d47738",
   "metadata": {},
   "outputs": [
    {
     "name": "stdout",
     "output_type": "stream",
     "text": [
      "   speaker                                               text            date  \\\n",
      "0  CLINTON  : I'm getting ready for a lot of things, a lot...  April 12, 2015   \n",
      "1  CLINTON  [ ] : I'll be graduating in May, and on gradua...  April 14, 2015   \n",
      "2  CLINTON  : Well, thank you all so much for inviting me ...  April 20, 2015   \n",
      "3  CLINTON  Thank you so much. I am absolutely delighted t...  April 29, 2015   \n",
      "4  CLINTON  Oh, hello. Hi, how are you? Well, it's wonderf...     May 5, 2015   \n",
      "\n",
      "                                               descr  \\\n",
      "0   Video Remarks Announcing Candidacy for President   \n",
      "1  Remarks in a Question and Answer Session at Ki...   \n",
      "2                    Remarks in Keene, New Hampshire   \n",
      "3  Address to the David N. Dinkins Leadership & P...   \n",
      "4  Remarks at a Roundtable with Young Nevada Resi...   \n",
      "\n",
      "                                                link  \n",
      "0  http://www.presidency.ucsb.edu/ws/index.php?pi...  \n",
      "1  http://www.presidency.ucsb.edu/ws/index.php?pi...  \n",
      "2  http://www.presidency.ucsb.edu/ws/index.php?pi...  \n",
      "3  http://www.presidency.ucsb.edu/ws/index.php?pi...  \n",
      "4  http://www.presidency.ucsb.edu/ws/index.php?pi...  \n"
     ]
    }
   ],
   "source": [
    "print(df.head())"
   ]
  },
  {
   "cell_type": "code",
   "execution_count": 4,
   "id": "d6ecedf7-5352-4d9d-ad9d-18477f45694a",
   "metadata": {
    "scrolled": true
   },
   "outputs": [
    {
     "name": "stdout",
     "output_type": "stream",
     "text": [
      "speaker\n",
      "CLINTON    93\n",
      "TRUMP      71\n",
      "Name: count, dtype: int64\n"
     ]
    }
   ],
   "source": [
    "# Check the distribution of speech authors\n",
    "author_counts = df['speaker'].value_counts()  # Replace 'author' with the actual column name if different\n",
    "print(author_counts)"
   ]
  },
  {
   "cell_type": "code",
   "execution_count": 5,
   "id": "641d9493-9f19-4c23-a0e3-3cf749e81a0e",
   "metadata": {},
   "outputs": [
    {
     "name": "stdout",
     "output_type": "stream",
     "text": [
      "Total documents in the corpus: 32460\n"
     ]
    }
   ],
   "source": [
    "corpus = Corpus.Corpus(\"us_speech\")\n",
    "# Iterate over the rows in the DataFrame and add documents\n",
    "for index, row in df.iterrows():\n",
    "    speech_text = row['text']  # Replace 'speech' with the actual column name containing the speech text\n",
    "    sentences = sent_tokenize(speech_text)  # Split the speech into sentences\n",
    "    for sentence in sentences:\n",
    "        document = Document.Document(titre=row[\"descr\"],texte=sentence, auteur=row[\"speaker\"], date=row[\"date\"], url=row[\"link\"])  # Adjust metadata as needed\n",
    "        corpus.add(document)\n",
    "\n",
    "# Confirm the number of documents added\n",
    "print(f\"Total documents in the corpus: {corpus.ndoc}\")"
   ]
  },
  {
   "cell_type": "code",
   "execution_count": 6,
   "id": "39f8b7c5-3341-48b1-bc34-baa4233e1dc5",
   "metadata": {},
   "outputs": [
    {
     "name": "stdout",
     "output_type": "stream",
     "text": [
      "Concordance Results for 'freedom':\n",
      "      match                      context\n",
      "0   freedom  circle of freedom and oppor\n",
      "1   freedom  ights and freedom is what's\n",
      "2   freedom  k down on freedom of expres\n",
      "3   freedom  s greater freedom of moveme\n",
      "4   freedom  nted more freedom, wanted t\n",
      "5   freedom  friend to freedom, it's not\n",
      "6   freedom  orship in freedom, nations \n",
      "7   freedom  uggle for freedom and self-\n",
      "8   freedom  religious freedom our count\n",
      "9   freedom  epresents freedom and hope \n",
      "10  freedom  ishes our freedom and indep\n",
      "11  freedom  g values, freedom and equal\n",
      "12  freedom  s choice, freedom and oppor\n",
      "13  freedom  iority of freedom over comm\n",
      "14  freedom  hoice and freedom and contr\n",
      "15  freedom  mined our freedom and indep\n",
      "16  freedom  urity and freedom, a countr\n",
      "17  freedom   the same freedom from fear\n",
      "18  freedom   party of freedom, equality\n",
      "19  freedom  efend our freedom, our jobs\n",
      "20  freedom   have the freedom – the civ\n",
      "21  freedom  rties and freedoms of all A\n",
      "22  freedom  chool the freedom to attend\n",
      "23  freedom  b for our freedom, our safe\n",
      "24  freedom  erica the freedom to choose\n",
      "25  freedom  erica the freedom to choose\n",
      "26  freedom  political freedom for the C\n",
      "27  freedom  to expand freedom for all o\n",
      "28  freedom  ected our freedom and kept \n",
      "29  freedom  otect the freedom and jobs \n",
      "30  freedom  religious freedom and liber\n",
      "31  freedom  power and freedom than to b\n",
      "32  freedom  religious freedom and liber\n",
      "33  freedom  ders, our freedoms, and our\n",
      "34  freedom  ervice to freedom.Amazing p\n",
      "35  freedom  religious freedom.You have \n",
      "36  freedom  rity with freedom-loving pe\n",
      "37  freedom  unity and freedom and commo\n",
      "38  freedom  ality and freedom is unlike\n",
      "39  freedom  berty and freedom.Someone w\n",
      "40  freedom  vision of freedom and equal\n",
      "41  freedom  religious freedom.It is one\n",
      "42  freedom  lieves in freedom and justi\n",
      "43  freedom  religious freedom.That runs\n",
      "44  freedom  lieves in freedom and justi\n",
      "45  freedom  beacon of freedom, hope and\n",
      "46  freedom   dignity, freedom of worshi\n"
     ]
    }
   ],
   "source": [
    "# Test the search functionality\n",
    "keywords = r\"freedom\"  # Replace with any keyword you want to search for\n",
    "top_n = 10  # Number of top documents to return\n",
    "# Test the concordance functionality\n",
    "concordance_results = corpus.concorde(keywords, top_n)  # Assuming your Corpus class has a concordance method\n",
    "\n",
    "# Display the concordance results\n",
    "print(\"Concordance Results for '{}':\".format(keywords))\n",
    "print(concordance_results)\n"
   ]
  },
  {
   "cell_type": "code",
   "execution_count": 7,
   "id": "7fff465b-7129-42bc-8590-5ef926200233",
   "metadata": {},
   "outputs": [
    {
     "name": "stderr",
     "output_type": "stream",
     "text": [
      "Building SearchEnginge Vocabulary: 100%|█████████████████████| 32460/32460 [00:00<00:00, 168386.15doc/s]\n"
     ]
    },
    {
     "name": "stdout",
     "output_type": "stream",
     "text": [
      "SearchEnginge Vocabulary Built.\n"
     ]
    },
    {
     "name": "stderr",
     "output_type": "stream",
     "text": [
      "Build SearchEnginge Term Frequency Matrix ...: 100%|█████████| 32460/32460 [00:00<00:00, 115518.80doc/s]\n"
     ]
    },
    {
     "name": "stdout",
     "output_type": "stream",
     "text": [
      "SearchEnginge Term Frequency Matrix built.\n"
     ]
    },
    {
     "name": "stderr",
     "output_type": "stream",
     "text": [
      "Building SearchEngine TfIdf Matrix ...: 100%|████████████████| 25875/25875 [00:00<00:00, 4112919.85it/s]"
     ]
    },
    {
     "name": "stdout",
     "output_type": "stream",
     "text": [
      "SearchEngine TfIdf Matrix Built.\n"
     ]
    },
    {
     "name": "stderr",
     "output_type": "stream",
     "text": [
      "\n"
     ]
    }
   ],
   "source": [
    "search_engine = SearchEngine.SearchEngine(corpus)"
   ]
  },
  {
   "cell_type": "code",
   "execution_count": 8,
   "id": "1bf1e6e7-b025-476b-8d1d-c0897530fdd4",
   "metadata": {
    "scrolled": true
   },
   "outputs": [
    {
     "name": "stdout",
     "output_type": "stream",
     "text": [
      "\n",
      "Search Results for 'freedom':\n"
     ]
    },
    {
     "name": "stderr",
     "output_type": "stream",
     "text": [
      "Searching ...: 100%|██████████████████████████████████████████| 32460/32460 [00:04<00:00, 6743.49Docs/s]\n"
     ]
    },
    {
     "name": "stdout",
     "output_type": "stream",
     "text": [
      "   document_index     score  \\\n",
      "0            9400  0.484785   \n",
      "1           24138  0.426167   \n",
      "2           21595  0.418481   \n",
      "3           17983  0.408249   \n",
      "4           17978  0.357845   \n",
      "5           30394  0.351469   \n",
      "6           24324  0.347354   \n",
      "7           18714  0.325552   \n",
      "8           14055  0.308315   \n",
      "9           14621  0.302155   \n",
      "\n",
      "                                            document   author  \n",
      "0      Remarks in San Diego, California, par CLINTON  CLINTON  \n",
      "1      Debate between Trump and Clinton, par CLINTON  CLINTON  \n",
      "2  Remarks at the Suburban Collection Showplace i...    TRUMP  \n",
      "3  Remarks at a Rally at the James L. Knight Cent...    TRUMP  \n",
      "4  Remarks at a Rally at the James L. Knight Cent...    TRUMP  \n",
      "5  Remarks at Coastal Credit Union Music Park in ...  CLINTON  \n",
      "6      Debate between Trump and Clinton, par CLINTON  CLINTON  \n",
      "7  Remarks at the Frontline Outreach Center in Or...  CLINTON  \n",
      "8  Remarks at the Charlotte Convention Center in ...    TRUMP  \n",
      "9  Remarks at the Mississippi Coliseum in Jackson...    TRUMP  \n",
      "\n",
      "Search Results for 'justice':\n"
     ]
    },
    {
     "name": "stderr",
     "output_type": "stream",
     "text": [
      "Searching ...: 100%|██████████████████████████████████████████| 32460/32460 [00:05<00:00, 6457.10Docs/s]\n"
     ]
    },
    {
     "name": "stdout",
     "output_type": "stream",
     "text": [
      "   document_index     score  \\\n",
      "0           30358  0.418416   \n",
      "1             485  0.398241   \n",
      "2           30159  0.391196   \n",
      "3           18068  0.385236   \n",
      "4             340  0.383655   \n",
      "5           25019  0.381738   \n",
      "6           30384  0.374718   \n",
      "7             461  0.370518   \n",
      "8           22677  0.360103   \n",
      "9           22130  0.342036   \n",
      "\n",
      "                                            document   author  \n",
      "0  Remarks at Coastal Credit Union Music Park in ...  CLINTON  \n",
      "1  Address to the David N. Dinkins Leadership & P...  CLINTON  \n",
      "2  Remarks at Pitt Community College in Wintervil...  CLINTON  \n",
      "3  Remarks to the Black Women's Agenda Symposium ...  CLINTON  \n",
      "4  Address to the David N. Dinkins Leadership & P...  CLINTON  \n",
      "5  Remarks at the Renaissance Hotel in Columbus, ...    TRUMP  \n",
      "6  Remarks at Coastal Credit Union Music Park in ...  CLINTON  \n",
      "7  Address to the David N. Dinkins Leadership & P...  CLINTON  \n",
      "8  Remarks at Goodyear Hall and Theater in Akron,...  CLINTON  \n",
      "9  Remarks at Little Rock AME Zion Church in Char...  CLINTON  \n",
      "\n",
      "Search Results for 'America':\n"
     ]
    },
    {
     "name": "stderr",
     "output_type": "stream",
     "text": [
      "Searching ...: 100%|██████████████████████████████████████████| 32460/32460 [00:04<00:00, 6979.62Docs/s]\n"
     ]
    },
    {
     "name": "stdout",
     "output_type": "stream",
     "text": [
      "   document_index     score  \\\n",
      "0           29682  0.636875   \n",
      "1           30743  0.594741   \n",
      "2           26248  0.579996   \n",
      "3           28144  0.515132   \n",
      "4           19091  0.507694   \n",
      "5           19223  0.507694   \n",
      "6           14427  0.499647   \n",
      "7           31536  0.498071   \n",
      "8           12856  0.493288   \n",
      "9           12859  0.493288   \n",
      "\n",
      "                                            document   author  \n",
      "0  Remarks at Smale Riverfront Park in Cincinnati...  CLINTON  \n",
      "1  Remarks at Eastern Market in Detroit, Michigan...  CLINTON  \n",
      "2      Debate between Trump and Clinton, par CLINTON  CLINTON  \n",
      "3  Remarks at Broward College's North Campus in C...  CLINTON  \n",
      "4  Remarks at a Rally at Sun Center Studios in Ch...    TRUMP  \n",
      "5  Remarks at a Rally at Berglund Center in Roano...    TRUMP  \n",
      "6  Remarks at the Summit Sports and Ice Complex i...    TRUMP  \n",
      "7  Remarks at J.S Dorton Arena in Raleigh, North ...    TRUMP  \n",
      "8  Remarks at a Rally at the University of North ...    TRUMP  \n",
      "9  Remarks at a Rally at the University of North ...    TRUMP  \n",
      "\n",
      "Search Results for 'speech':\n"
     ]
    },
    {
     "name": "stderr",
     "output_type": "stream",
     "text": [
      "Searching ...: 100%|██████████████████████████████████████████| 32460/32460 [00:04<00:00, 6961.74Docs/s]\n"
     ]
    },
    {
     "name": "stdout",
     "output_type": "stream",
     "text": [
      "   document_index     score  \\\n",
      "0            4982  0.574151   \n",
      "1           13463  0.492276   \n",
      "2           12313  0.475807   \n",
      "3           18335  0.423454   \n",
      "4            2855  0.406205   \n",
      "5           21023  0.375983   \n",
      "6           10492  0.368782   \n",
      "7           18623  0.357478   \n",
      "8           31909  0.350240   \n",
      "9            2124  0.346292   \n",
      "\n",
      "                                            document   author  \n",
      "0           Interview with Charlie Rose, par CLINTON  CLINTON  \n",
      "1  Remarks at Youngstown State University in Youn...    TRUMP  \n",
      "2  Remarks at the KI Convention Center in Green B...    TRUMP  \n",
      "3  Remarks at Temple University in Philadelphia, ...  CLINTON  \n",
      "4  Interview with Brianna Keilar of CNN's \\State ...  CLINTON  \n",
      "5  Remarks at the University of New Hampshire in ...  CLINTON  \n",
      "6  Address Accepting the Presidential Nomination ...    TRUMP  \n",
      "7  Remarks at the Frontline Outreach Center in Or...  CLINTON  \n",
      "8  Remarks at North Carolina State University in ...  CLINTON  \n",
      "9  Remarks and a Question and Answer Session at a...  CLINTON  \n",
      "\n",
      "Search Results for 'civil rights':\n"
     ]
    },
    {
     "name": "stderr",
     "output_type": "stream",
     "text": [
      "Searching ...: 100%|██████████████████████████████████████████| 32460/32460 [00:04<00:00, 6881.26Docs/s]"
     ]
    },
    {
     "name": "stdout",
     "output_type": "stream",
     "text": [
      "   document_index     score  \\\n",
      "0            6622  0.667022   \n",
      "1           16182  0.641971   \n",
      "2           30906  0.625811   \n",
      "3           11749  0.512700   \n",
      "4           18073  0.496987   \n",
      "5           32058  0.491679   \n",
      "6           28286  0.486742   \n",
      "7           31763  0.439761   \n",
      "8           19202  0.432862   \n",
      "9           16635  0.404289   \n",
      "\n",
      "                                            document   author  \n",
      "0  Interview with Alisyn Camerota of CNN, par CLI...  CLINTON  \n",
      "1  Remarks at the Cleveland Arts and Social Scien...    TRUMP  \n",
      "2  Remarks at Eastern Market in Detroit, Michigan...  CLINTON  \n",
      "3  Address Accepting the Presidential Nomination ...  CLINTON  \n",
      "4  Remarks to the Black Women's Agenda Symposium ...  CLINTON  \n",
      "5  Remarks at Grand Valley State University in Gr...  CLINTON  \n",
      "6  Remarks at McGlohon Theatre at Spirit Square i...    TRUMP  \n",
      "7  Remarks at the University of Pittsburgh, par C...  CLINTON  \n",
      "8  Remarks at a Rally at Berglund Center in Roano...    TRUMP  \n",
      "9  Remarks to the 11th Annual Values Voter Summit...    TRUMP  \n"
     ]
    },
    {
     "name": "stderr",
     "output_type": "stream",
     "text": [
      "\n"
     ]
    }
   ],
   "source": [
    "# Define a list of test queries\n",
    "test_queries = [\n",
    "    \"freedom\",\n",
    "    \"justice\",\n",
    "    \"America\",\n",
    "    \"speech\",\n",
    "    \"civil rights\",\n",
    "]\n",
    "\n",
    "# Function to perform searches and print results\n",
    "def test_search_engine(queries):\n",
    "    for query in queries:\n",
    "        print(f\"\\nSearch Results for '{query}':\")\n",
    "        results = search_engine.search(query, 10)  # Assuming your SearchEngine class has a search method\n",
    "        if not results.empty:\n",
    "            print(results)  # Print each result; adjust based on your Document representation\n",
    "        else:\n",
    "            print(\"No results found.\")\n",
    "\n",
    "# Execute the test\n",
    "test_search_engine(test_queries)"
   ]
  },
  {
   "cell_type": "code",
   "execution_count": 21,
   "id": "6a4c5324-1c95-47aa-935a-7519aaeeb32c",
   "metadata": {},
   "outputs": [
    {
     "data": {
      "application/vnd.jupyter.widget-view+json": {
       "model_id": "4ccb88668b5c4c13a0589baeb3afa29f",
       "version_major": 2,
       "version_minor": 0
      },
      "text/plain": [
       "VBox(children=(Label(value='Search Engine Interface'), Text(value='', description='Keywords:', placeholder='En…"
      ]
     },
     "metadata": {},
     "output_type": "display_data"
    }
   ],
   "source": [
    "import ipywidgets as widgets\n",
    "from IPython.display import display\n",
    "\n",
    "# Create a label for the title\n",
    "title_label = widgets.Label(value=\"Search Engine Interface\")\n",
    "\n",
    "# Create a text input for keywords\n",
    "keywords_input = widgets.Text(\n",
    "    description='Keywords:',\n",
    "    placeholder='Enter keywords separated by commas'\n",
    ")\n",
    "\n",
    "# Create an IntSlider for the number of documents to return\n",
    "num_docs_slider = widgets.IntSlider(\n",
    "    value=1,\n",
    "    min=1,\n",
    "    max=100,\n",
    "    step=1,\n",
    "    description='Num Docs:',\n",
    "    continuous_update=False\n",
    ")\n",
    "\n",
    "authors = [author.name for _, author in corpus.authors.items()]\n",
    "\n",
    "# Create a dropdown for author filter\n",
    "author_filter = widgets.Dropdown(\n",
    "    options=['All Authors', *authors],\n",
    "    value='All Authors',\n",
    "    description='Author:'\n",
    ")\n",
    "\n",
    "# Create a button to trigger the search\n",
    "search_button = widgets.Button(description=\"Search\")\n",
    "\n",
    "# Create an Output widget to display search results\n",
    "output_area = widgets.Output()\n",
    "\n",
    "# Add the author filter to the interface\n",
    "ui_with_filters = widgets.VBox([title_label, keywords_input, num_docs_slider, author_filter, search_button, output_area])\n",
    "display(ui_with_filters)\n",
    "\n",
    "\n",
    "def on_search_button_click_with_filters(b):\n",
    "    # Clear previous output\n",
    "    output_area.clear_output()\n",
    "    \n",
    "    # Get the values from the widgets\n",
    "    keywords = keywords_input.value\n",
    "    num_docs = num_docs_slider.value\n",
    "    author = author_filter.value if author_filter.value != 'All Authors' else None\n",
    "    \n",
    "    # Display the results in the Output area\n",
    "    with output_area:\n",
    "        results = search_engine.search(keywords, num_docs)\n",
    "        results = results[results[\"score\"]>0]\n",
    "        if author is not None:\n",
    "            results = results[results[\"author\"] == author]\n",
    "        for index, result in results.iterrows():\n",
    "            display(f\"************{index}.{result.author}************\")\n",
    "            display(result.document.texte)\n",
    "\n",
    "\n",
    "# Bind the button click event to the updated function\n",
    "search_button.on_click(on_search_button_click_with_filters)"
   ]
  },
  {
   "cell_type": "code",
   "execution_count": null,
   "id": "d31bc0e0-6b95-4abc-a949-4da40a7720ff",
   "metadata": {},
   "outputs": [],
   "source": []
  },
  {
   "cell_type": "code",
   "execution_count": null,
   "id": "0536ca1e-f6a0-4d9e-bb1a-312b2c35d47a",
   "metadata": {},
   "outputs": [],
   "source": []
  }
 ],
 "metadata": {
  "kernelspec": {
   "display_name": "Python 3 (ipykernel)",
   "language": "python",
   "name": "python3"
  },
  "language_info": {
   "codemirror_mode": {
    "name": "ipython",
    "version": 3
   },
   "file_extension": ".py",
   "mimetype": "text/x-python",
   "name": "python",
   "nbconvert_exporter": "python",
   "pygments_lexer": "ipython3",
   "version": "3.10.16"
  }
 },
 "nbformat": 4,
 "nbformat_minor": 5
}
