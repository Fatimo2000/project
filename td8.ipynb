{
 "cells": [
  {
   "cell_type": "code",
   "execution_count": 1,
   "id": "a7f587dc-8362-4d1b-ac8b-881fad457e6d",
   "metadata": {},
   "outputs": [
    {
     "name": "stderr",
     "output_type": "stream",
     "text": [
      "[nltk_data] Downloading package punkt_tab to\n",
      "[nltk_data]     /home/alireza/nltk_data...\n",
      "[nltk_data]   Package punkt_tab is already up-to-date!\n"
     ]
    },
    {
     "data": {
      "text/plain": [
       "True"
      ]
     },
     "execution_count": 1,
     "metadata": {},
     "output_type": "execute_result"
    }
   ],
   "source": [
    "import pandas as pd  # Importing pandas for data manipulation and analysis\n",
    "import nltk  # Importing the Natural Language Toolkit for text processing\n",
    "from nltk.tokenize import (\n",
    "    sent_tokenize,\n",
    ")  # Importing functions for sentence and word tokenization\n",
    "\n",
    "# Importing custom models for handling corpus, documents, and search functionality\n",
    "from models import (\n",
    "    Corpus,\n",
    "    Document,\n",
    "    SearchEngine,\n",
    ")  # Importing Models\n",
    "\n",
    "# Download the Punkt tokenizer models, which are used for sentence and word tokenization\n",
    "nltk.download(\"punkt_tab\")"
   ]
  },
  {
   "cell_type": "code",
   "execution_count": 2,
   "id": "b4da9194-f2df-44ce-a6ca-a27040283e85",
   "metadata": {},
   "outputs": [],
   "source": [
    "# Define the file path to the CSV file containing the data\n",
    "file_path = \"./data/discours_US.csv\"\n",
    "\n",
    "# Open the specified CSV file in read and write mode\n",
    "with open(file_path, \"r+\") as file:\n",
    "    # Read the contents of the CSV file into a pandas DataFrame\n",
    "    df = pd.read_csv(file, sep=\"\\t\")  # Specify tab as the separator for the CSV file"
   ]
  },
  {
   "cell_type": "code",
   "execution_count": 3,
   "id": "b9cac886-6c29-488a-8b25-1cbc19d47738",
   "metadata": {},
   "outputs": [
    {
     "name": "stdout",
     "output_type": "stream",
     "text": [
      "   speaker                                               text            date  \\\n",
      "0  CLINTON  : I'm getting ready for a lot of things, a lot...  April 12, 2015   \n",
      "1  CLINTON  [ ] : I'll be graduating in May, and on gradua...  April 14, 2015   \n",
      "2  CLINTON  : Well, thank you all so much for inviting me ...  April 20, 2015   \n",
      "3  CLINTON  Thank you so much. I am absolutely delighted t...  April 29, 2015   \n",
      "4  CLINTON  Oh, hello. Hi, how are you? Well, it's wonderf...     May 5, 2015   \n",
      "\n",
      "                                               descr  \\\n",
      "0   Video Remarks Announcing Candidacy for President   \n",
      "1  Remarks in a Question and Answer Session at Ki...   \n",
      "2                    Remarks in Keene, New Hampshire   \n",
      "3  Address to the David N. Dinkins Leadership & P...   \n",
      "4  Remarks at a Roundtable with Young Nevada Resi...   \n",
      "\n",
      "                                                link  \n",
      "0  http://www.presidency.ucsb.edu/ws/index.php?pi...  \n",
      "1  http://www.presidency.ucsb.edu/ws/index.php?pi...  \n",
      "2  http://www.presidency.ucsb.edu/ws/index.php?pi...  \n",
      "3  http://www.presidency.ucsb.edu/ws/index.php?pi...  \n",
      "4  http://www.presidency.ucsb.edu/ws/index.php?pi...  \n"
     ]
    }
   ],
   "source": [
    "# Displays the top rows of the DataFrame to verify the data structure and contents\n",
    "print(df.head())"
   ]
  },
  {
   "cell_type": "code",
   "execution_count": 4,
   "id": "d6ecedf7-5352-4d9d-ad9d-18477f45694a",
   "metadata": {
    "scrolled": true
   },
   "outputs": [
    {
     "name": "stdout",
     "output_type": "stream",
     "text": [
      "speaker\n",
      "CLINTON    93\n",
      "TRUMP      71\n",
      "Name: count, dtype: int64\n"
     ]
    }
   ],
   "source": [
    "# Check the distribution of speech authors by counting occurrences of each speaker\n",
    "author_counts = df[\n",
    "    \"speaker\"\n",
    "].value_counts()  # Count the number of speeches by each speaker\n",
    "\n",
    "# Print the counts of speeches for each author to the console\n",
    "print(author_counts)  # Displays the distribution of speeches among different speakers"
   ]
  },
  {
   "cell_type": "code",
   "execution_count": 5,
   "id": "641d9493-9f19-4c23-a0e3-3cf749e81a0e",
   "metadata": {},
   "outputs": [
    {
     "name": "stdout",
     "output_type": "stream",
     "text": [
      "Total documents in the corpus: 32460\n"
     ]
    }
   ],
   "source": [
    "# Create a new Corpus object to hold the speeches\n",
    "corpus = Corpus.Corpus(\"us_speech\")\n",
    "\n",
    "# Iterate over the rows in the DataFrame to add each speech as a document\n",
    "for index, row in df.iterrows():\n",
    "    # Extract the speech text from the DataFrame\n",
    "    speech_text = row[\n",
    "        \"text\"\n",
    "    ] \n",
    "\n",
    "    # Split the speech into individual sentences\n",
    "    sentences = sent_tokenize(speech_text)  # Tokenize the speech into sentences\n",
    "\n",
    "    # Iterate over each sentence to create a Document object\n",
    "    for sentence in sentences:\n",
    "        # Create a new Document object with metadata from the DataFrame\n",
    "        document = Document.Document(\n",
    "            titre=row[\"descr\"],  # Title of the speech\n",
    "            texte=sentence,  # The sentence text\n",
    "            auteur=row[\"speaker\"],  # Author of the speech\n",
    "            date=row[\"date\"],  # Date of the speech\n",
    "            url=row[\"link\"],  # Link to the speech\n",
    "        )  # Adjust metadata as needed\n",
    "\n",
    "        # Add the created document to the corpus\n",
    "        corpus.add(document)\n",
    "\n",
    "# Confirm the total number of documents added to the corpus\n",
    "print(\n",
    "    f\"Total documents in the corpus: {corpus.ndoc}\"\n",
    ")  # Display the count of documents in the corpus"
   ]
  },
  {
   "cell_type": "code",
   "execution_count": 11,
   "id": "39f8b7c5-3341-48b1-bc34-baa4233e1dc5",
   "metadata": {},
   "outputs": [
    {
     "name": "stdout",
     "output_type": "stream",
     "text": [
      "Concordance Results for 'freedom':\n",
      "      match                                context\n",
      "0   freedom   the circle of freedom and opportunit\n",
      "1   freedom  man rights and freedom is what's draw\n",
      "2   freedom   crack down on freedom of expression,\n",
      "3   freedom  Iraqis greater freedom of movement an\n",
      "4   freedom  ho wanted more freedom, wanted to liv\n",
      "5   freedom  ot a friend to freedom, it's not a fr\n",
      "6   freedom  and worship in freedom, nations built\n",
      "7   freedom  o struggle for freedom and self-deter\n",
      "8   freedom   the religious freedom our country wa\n",
      "9   freedom  .It represents freedom and hope and o\n",
      "10  freedom  diminishes our freedom and independen\n",
      "11  freedom  during values, freedom and equality, \n",
      "12  freedom  udents choice, freedom and opportunit\n",
      "13  freedom  superiority of freedom over communism\n",
      "14  freedom  you choice and freedom and control in\n",
      "15  freedom  undermined our freedom and independen\n",
      "16  freedom  f security and freedom, a country of \n",
      "17  freedom  enjoy the same freedom from fear that\n",
      "18  freedom  , the party of freedom, equality and \n",
      "19  freedom  ill defend our freedom, our jobs, and\n",
      "20  freedom  ol to have the freedom – the civil ri\n",
      "21  freedom   liberties and freedoms of all Americ\n",
      "22  freedom  ent school the freedom to attend the \n",
      "23  freedom  d limb for our freedom, our safety an\n",
      "24  freedom  in America the freedom to choose the \n",
      "25  freedom  in America the freedom to choose the \n",
      "26  freedom   and political freedom for the Cuban \n",
      "27  freedom  push to expand freedom for all of our\n",
      "28  freedom   protected our freedom and kept our c\n",
      "29  freedom  er protect the freedom and jobs of th\n",
      "30  freedom  d on religious freedom and liberty.Ho\n",
      "31  freedom  more power and freedom than to be wor\n",
      "32  freedom  d on religious freedom and liberty.Th\n",
      "33  freedom  r borders, our freedoms, and our sove\n",
      "34  freedom   in service to freedom.Amazing place.\n",
      "35  freedom  d on religious freedom.You have to as\n",
      "36  freedom  olidarity with freedom-loving people \n",
      "37  freedom  pportunity and freedom and common dec\n",
      "38  freedom  d equality and freedom is unlike any \n",
      "39  freedom  us liberty and freedom.Someone who wo\n",
      "40  freedom   the vision of freedom and equality s\n",
      "41  freedom  d on religious freedom.It is one of t\n",
      "42  freedom  at believes in freedom and justice fo\n",
      "43  freedom  d on religious freedom.That runs cont\n",
      "44  freedom  at believes in freedom and justice fo\n",
      "45  freedom  re a beacon of freedom, hope and oppo\n",
      "46  freedom  s and dignity, freedom of worship and\n"
     ]
    }
   ],
   "source": [
    "# Define the keyword to search for in the corpus\n",
    "keywords = r\"freedom\"\n",
    "\n",
    "# Specify the context size of string return based on the search\n",
    "context_size = 15\n",
    "\n",
    "# Test the concordance functionality of the corpus\n",
    "concordance_results = corpus.concorde(\n",
    "    keywords, context_size\n",
    ")\n",
    "\n",
    "# Display the concordance results to the console\n",
    "print(\"Concordance Results for '{}':\".format(keywords))\n",
    "print(concordance_results)"
   ]
  },
  {
   "cell_type": "code",
   "execution_count": 7,
   "id": "7fff465b-7129-42bc-8590-5ef926200233",
   "metadata": {},
   "outputs": [
    {
     "name": "stdout",
     "output_type": "stream",
     "text": [
      "SearchEngine Vocabulary Built.\n",
      "SearchEngine Term Frequency Matrix built.\n",
      "SearchEngine TfIdf Matrix Built.\n"
     ]
    }
   ],
   "source": [
    "# Initialize a SearchEngine object with the previously created corpus\n",
    "search_engine = SearchEngine.SearchEngine(corpus)"
   ]
  },
  {
   "cell_type": "code",
   "execution_count": 8,
   "id": "1bf1e6e7-b025-476b-8d1d-c0897530fdd4",
   "metadata": {
    "scrolled": true
   },
   "outputs": [
    {
     "name": "stdout",
     "output_type": "stream",
     "text": [
      "\n",
      "Search Results for 'freedom':\n"
     ]
    },
    {
     "name": "stderr",
     "output_type": "stream",
     "text": [
      "Searching ...: 100%|███████████████████████████████████████████████████████████████████████████████████| 32460/32460 [00:04<00:00, 7298.68Docs/s]\n"
     ]
    },
    {
     "name": "stdout",
     "output_type": "stream",
     "text": [
      "   document_index     score  \\\n",
      "0            9400  0.484785   \n",
      "1           24138  0.426167   \n",
      "2           21595  0.418481   \n",
      "3           17983  0.408249   \n",
      "4           17978  0.357845   \n",
      "5           30394  0.351469   \n",
      "6           24324  0.347354   \n",
      "7           18714  0.325552   \n",
      "8           14055  0.308315   \n",
      "9           14621  0.302155   \n",
      "\n",
      "                                            document   author  \n",
      "0      Remarks in San Diego, California, par CLINTON  CLINTON  \n",
      "1      Debate between Trump and Clinton, par CLINTON  CLINTON  \n",
      "2  Remarks at the Suburban Collection Showplace i...    TRUMP  \n",
      "3  Remarks at a Rally at the James L. Knight Cent...    TRUMP  \n",
      "4  Remarks at a Rally at the James L. Knight Cent...    TRUMP  \n",
      "5  Remarks at Coastal Credit Union Music Park in ...  CLINTON  \n",
      "6      Debate between Trump and Clinton, par CLINTON  CLINTON  \n",
      "7  Remarks at the Frontline Outreach Center in Or...  CLINTON  \n",
      "8  Remarks at the Charlotte Convention Center in ...    TRUMP  \n",
      "9  Remarks at the Mississippi Coliseum in Jackson...    TRUMP  \n",
      "\n",
      "Search Results for 'justice':\n"
     ]
    },
    {
     "name": "stderr",
     "output_type": "stream",
     "text": [
      "Searching ...: 100%|███████████████████████████████████████████████████████████████████████████████████| 32460/32460 [00:04<00:00, 6607.67Docs/s]\n"
     ]
    },
    {
     "name": "stdout",
     "output_type": "stream",
     "text": [
      "   document_index     score  \\\n",
      "0           30358  0.418416   \n",
      "1             485  0.398241   \n",
      "2           30159  0.391196   \n",
      "3           18068  0.385236   \n",
      "4             340  0.383655   \n",
      "5           25019  0.381738   \n",
      "6           30384  0.374718   \n",
      "7             461  0.370518   \n",
      "8           22677  0.360103   \n",
      "9           22130  0.342036   \n",
      "\n",
      "                                            document   author  \n",
      "0  Remarks at Coastal Credit Union Music Park in ...  CLINTON  \n",
      "1  Address to the David N. Dinkins Leadership & P...  CLINTON  \n",
      "2  Remarks at Pitt Community College in Wintervil...  CLINTON  \n",
      "3  Remarks to the Black Women's Agenda Symposium ...  CLINTON  \n",
      "4  Address to the David N. Dinkins Leadership & P...  CLINTON  \n",
      "5  Remarks at the Renaissance Hotel in Columbus, ...    TRUMP  \n",
      "6  Remarks at Coastal Credit Union Music Park in ...  CLINTON  \n",
      "7  Address to the David N. Dinkins Leadership & P...  CLINTON  \n",
      "8  Remarks at Goodyear Hall and Theater in Akron,...  CLINTON  \n",
      "9  Remarks at Little Rock AME Zion Church in Char...  CLINTON  \n",
      "\n",
      "Search Results for 'America':\n"
     ]
    },
    {
     "name": "stderr",
     "output_type": "stream",
     "text": [
      "Searching ...: 100%|███████████████████████████████████████████████████████████████████████████████████| 32460/32460 [00:04<00:00, 6625.12Docs/s]\n"
     ]
    },
    {
     "name": "stdout",
     "output_type": "stream",
     "text": [
      "   document_index     score  \\\n",
      "0           29682  0.636875   \n",
      "1           30743  0.594741   \n",
      "2           26248  0.579996   \n",
      "3           28144  0.515132   \n",
      "4           19091  0.507694   \n",
      "5           19223  0.507694   \n",
      "6           14427  0.499647   \n",
      "7           31536  0.498071   \n",
      "8           12856  0.493288   \n",
      "9           12859  0.493288   \n",
      "\n",
      "                                            document   author  \n",
      "0  Remarks at Smale Riverfront Park in Cincinnati...  CLINTON  \n",
      "1  Remarks at Eastern Market in Detroit, Michigan...  CLINTON  \n",
      "2      Debate between Trump and Clinton, par CLINTON  CLINTON  \n",
      "3  Remarks at Broward College's North Campus in C...  CLINTON  \n",
      "4  Remarks at a Rally at Sun Center Studios in Ch...    TRUMP  \n",
      "5  Remarks at a Rally at Berglund Center in Roano...    TRUMP  \n",
      "6  Remarks at the Summit Sports and Ice Complex i...    TRUMP  \n",
      "7  Remarks at J.S Dorton Arena in Raleigh, North ...    TRUMP  \n",
      "8  Remarks at a Rally at the University of North ...    TRUMP  \n",
      "9  Remarks at a Rally at the University of North ...    TRUMP  \n",
      "\n",
      "Search Results for 'speech':\n"
     ]
    },
    {
     "name": "stderr",
     "output_type": "stream",
     "text": [
      "Searching ...: 100%|███████████████████████████████████████████████████████████████████████████████████| 32460/32460 [00:05<00:00, 6192.68Docs/s]\n"
     ]
    },
    {
     "name": "stdout",
     "output_type": "stream",
     "text": [
      "   document_index     score  \\\n",
      "0            4982  0.574151   \n",
      "1           13463  0.492276   \n",
      "2           12313  0.475807   \n",
      "3           18335  0.423454   \n",
      "4            2855  0.406205   \n",
      "5           21023  0.375983   \n",
      "6           10492  0.368782   \n",
      "7           18623  0.357478   \n",
      "8           31909  0.350240   \n",
      "9            2124  0.346292   \n",
      "\n",
      "                                            document   author  \n",
      "0           Interview with Charlie Rose, par CLINTON  CLINTON  \n",
      "1  Remarks at Youngstown State University in Youn...    TRUMP  \n",
      "2  Remarks at the KI Convention Center in Green B...    TRUMP  \n",
      "3  Remarks at Temple University in Philadelphia, ...  CLINTON  \n",
      "4  Interview with Brianna Keilar of CNN's \\State ...  CLINTON  \n",
      "5  Remarks at the University of New Hampshire in ...  CLINTON  \n",
      "6  Address Accepting the Presidential Nomination ...    TRUMP  \n",
      "7  Remarks at the Frontline Outreach Center in Or...  CLINTON  \n",
      "8  Remarks at North Carolina State University in ...  CLINTON  \n",
      "9  Remarks and a Question and Answer Session at a...  CLINTON  \n",
      "\n",
      "Search Results for 'civil rights':\n"
     ]
    },
    {
     "name": "stderr",
     "output_type": "stream",
     "text": [
      "Searching ...: 100%|███████████████████████████████████████████████████████████████████████████████████| 32460/32460 [00:06<00:00, 4910.18Docs/s]"
     ]
    },
    {
     "name": "stdout",
     "output_type": "stream",
     "text": [
      "   document_index     score  \\\n",
      "0            6622  0.667022   \n",
      "1           16182  0.641971   \n",
      "2           30906  0.625811   \n",
      "3           11749  0.512700   \n",
      "4           18073  0.496987   \n",
      "5           32058  0.491679   \n",
      "6           28286  0.486742   \n",
      "7           31763  0.439761   \n",
      "8           19202  0.432862   \n",
      "9           16635  0.404289   \n",
      "\n",
      "                                            document   author  \n",
      "0  Interview with Alisyn Camerota of CNN, par CLI...  CLINTON  \n",
      "1  Remarks at the Cleveland Arts and Social Scien...    TRUMP  \n",
      "2  Remarks at Eastern Market in Detroit, Michigan...  CLINTON  \n",
      "3  Address Accepting the Presidential Nomination ...  CLINTON  \n",
      "4  Remarks to the Black Women's Agenda Symposium ...  CLINTON  \n",
      "5  Remarks at Grand Valley State University in Gr...  CLINTON  \n",
      "6  Remarks at McGlohon Theatre at Spirit Square i...    TRUMP  \n",
      "7  Remarks at the University of Pittsburgh, par C...  CLINTON  \n",
      "8  Remarks at a Rally at Berglund Center in Roano...    TRUMP  \n",
      "9  Remarks to the 11th Annual Values Voter Summit...    TRUMP  \n"
     ]
    },
    {
     "name": "stderr",
     "output_type": "stream",
     "text": [
      "\n"
     ]
    }
   ],
   "source": [
    "# Define a list of test queries to evaluate the search engine\n",
    "test_queries = [\n",
    "    \"freedom\",\n",
    "    \"justice\",\n",
    "    \"America\",\n",
    "    \"speech\",\n",
    "    \"civil rights\",\n",
    "]\n",
    "\n",
    "\n",
    "# Function to perform searches using the search engine and print the results\n",
    "def test_search_engine(queries):\n",
    "    # Iterate over each query in the provided list\n",
    "    for query in queries:\n",
    "        print(\n",
    "            f\"\\nSearch Results for '{query}':\"\n",
    "        )  # Print the current query being searched\n",
    "\n",
    "        # Perform the search using the search engine and limit results to the top 10\n",
    "        results = search_engine.search(query, 10)\n",
    "\n",
    "        # Check if any results were returned\n",
    "        if not results.empty:\n",
    "            print(results)\n",
    "        else:\n",
    "            print(\"No results found.\")  # Inform the user if no results were found\n",
    "\n",
    "\n",
    "# Execute the test function to perform searches on the test queries\n",
    "test_search_engine(test_queries)"
   ]
  },
  {
   "cell_type": "code",
   "execution_count": 9,
   "id": "6a4c5324-1c95-47aa-935a-7519aaeeb32c",
   "metadata": {},
   "outputs": [
    {
     "data": {
      "application/vnd.jupyter.widget-view+json": {
       "model_id": "506dc2b638c14b8e93cdf970c88d8a8c",
       "version_major": 2,
       "version_minor": 0
      },
      "text/plain": [
       "VBox(children=(Label(value='Search Engine Interface'), Text(value='', description='Keywords:', placeholder='En…"
      ]
     },
     "metadata": {},
     "output_type": "display_data"
    }
   ],
   "source": [
    "import ipywidgets as widgets  # Import the ipywidgets library for creating interactive widgets\n",
    "from IPython.display import (\n",
    "    display,\n",
    ")  # Import display function to show widgets in Jupyter notebooks\n",
    "\n",
    "# Create a label for the title of the search interface\n",
    "title_label = widgets.Label(value=\"Search Engine Interface\")\n",
    "\n",
    "# Create a text input widget for entering keywords\n",
    "keywords_input = widgets.Text(\n",
    "    description=\"Keywords:\", placeholder=\"Enter keywords separated by commas\"\n",
    ")\n",
    "\n",
    "# Create an IntSlider widget for selecting the number of documents to return\n",
    "num_docs_slider = widgets.IntSlider(\n",
    "    value=1, min=1, max=100, step=1, description=\"Num Docs:\", continuous_update=False\n",
    ")\n",
    "\n",
    "# Extract author names from the corpus for the dropdown filter\n",
    "authors = [author.name for _, author in corpus.authors.items()]\n",
    "\n",
    "# Create a dropdown widget for selecting an author filter\n",
    "author_filter = widgets.Dropdown(\n",
    "    options=[\"All Authors\", *authors], value=\"All Authors\", description=\"Author:\"\n",
    ")\n",
    "\n",
    "# Create a button widget to trigger the search action\n",
    "search_button = widgets.Button(description=\"Search\")\n",
    "\n",
    "# Create an Output widget to display the search results\n",
    "output_area = widgets.Output()\n",
    "\n",
    "# Organize the widgets into a vertical box layout for the user interface\n",
    "ui_with_filters = widgets.VBox(\n",
    "    [\n",
    "        title_label,\n",
    "        keywords_input,\n",
    "        num_docs_slider,\n",
    "        author_filter,\n",
    "        search_button,\n",
    "        output_area,\n",
    "    ]\n",
    ")\n",
    "\n",
    "# Display the user interface in the notebook\n",
    "display(ui_with_filters)\n",
    "\n",
    "\n",
    "# Function to handle the search button click event\n",
    "def on_search_button_click_with_filters(b):\n",
    "    # Clear any previous output in the output area\n",
    "    output_area.clear_output()\n",
    "\n",
    "    # Retrieve values from the widgets\n",
    "    keywords = keywords_input.value  # Get the keywords entered by the user\n",
    "    num_docs = num_docs_slider.value  # Get the number of documents to return\n",
    "    author = (\n",
    "        author_filter.value if author_filter.value != \"All Authors\" else None\n",
    "    )  # Get the selected author\n",
    "\n",
    "    # Display the search results in the Output area\n",
    "    with output_area:\n",
    "        results = search_engine.search(keywords, num_docs)  # Perform the search\n",
    "        results = results[\n",
    "            results[\"score\"] > 0\n",
    "        ]  # Filter results to include only those with a score > 0\n",
    "        if author is not None:\n",
    "            results = results[\n",
    "                results[\"author\"] == author\n",
    "            ]  # Filter results by the selected author if applicable\n",
    "\n",
    "        # Display each result in the output area\n",
    "        for index, result in results.iterrows():\n",
    "            display(\n",
    "                f\"************{index}.{result.author}************\"\n",
    "            )  # Display the author and index\n",
    "            display(result.document.texte)  # Display the text of the document\n",
    "\n",
    "\n",
    "# Bind the button click event to the search function\n",
    "search_button.on_click(on_search_button_click_with_filters)"
   ]
  },
  {
   "cell_type": "code",
   "execution_count": null,
   "id": "d31bc0e0-6b95-4abc-a949-4da40a7720ff",
   "metadata": {},
   "outputs": [],
   "source": []
  },
  {
   "cell_type": "code",
   "execution_count": null,
   "id": "0536ca1e-f6a0-4d9e-bb1a-312b2c35d47a",
   "metadata": {},
   "outputs": [],
   "source": []
  }
 ],
 "metadata": {
  "kernelspec": {
   "display_name": "Python 3 (ipykernel)",
   "language": "python",
   "name": "python3"
  },
  "language_info": {
   "codemirror_mode": {
    "name": "ipython",
    "version": 3
   },
   "file_extension": ".py",
   "mimetype": "text/x-python",
   "name": "python",
   "nbconvert_exporter": "python",
   "pygments_lexer": "ipython3",
   "version": "3.10.16"
  }
 },
 "nbformat": 4,
 "nbformat_minor": 5
}
