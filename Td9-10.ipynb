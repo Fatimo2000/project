{
 "cells": [
  {
   "cell_type": "code",
   "execution_count": 1,
   "id": "d189d9ae-6a2d-4839-9e49-5e3d2a359dc3",
   "metadata": {},
   "outputs": [
    {
     "name": "stdout",
     "output_type": "stream",
     "text": [
      "Top 10 words in Reddit documents:\n",
      "            word  term_frequency  document_frequency\n",
      "10          and             145                  38\n",
      "5           for             114                  38\n",
      "9        COVID-             114                  38\n",
      "20           in             114                  38\n",
      "11          our             108                  38\n",
      "7   information             102                  38\n",
      "85       &nbsp;              96                  32\n",
      "50          are              82                  38\n",
      "2            to              76                  38\n",
      "6          more              76                  38\n",
      "Top 10 words in Arxiv documents:\n",
      "      word  term_frequency  document_frequency\n",
      "8     the           11147                 998\n",
      "41     of            7280                 992\n",
      "60    and            5948                 989\n",
      "31     to            4374                 963\n",
      "37      a            3282                 930\n",
      "4      in            3115                 917\n",
      "22     is            1945                 790\n",
      "183   for            1828                 789\n",
      "162  that            1491                 740\n",
      "18    The            1404                 720\n"
     ]
    }
   ],
   "source": [
    "from models.Corpus import Corpus  # Import the Corpus class from the models module\n",
    "\n",
    "# Load the corpus of documents from a specified file\n",
    "corpus = Corpus.load(\"./data/corpus.pkl\")\n",
    "\n",
    "# Analyze vocabulary for Reddit documents\n",
    "reddit_docs = corpus.get_documents_by_type(\n",
    "    \"Reddit\"\n",
    ")  # Retrieve documents of type \"Reddit\"\n",
    "reddit_corpus = Corpus(\n",
    "    \"Reddit Analysis\"\n",
    ")  # Create a new Corpus instance for Reddit analysis\n",
    "\n",
    "# Add each Reddit document to the Reddit corpus\n",
    "for doc in reddit_docs:\n",
    "    reddit_corpus.add(doc)\n",
    "\n",
    "# Build the vocabulary for the Reddit corpus\n",
    "reddit_vocab = reddit_corpus.build_vocabulary()\n",
    "\n",
    "# Get the top 10 words by term frequency in the Reddit vocabulary\n",
    "reddit_top_words = reddit_vocab.nlargest(10, \"term_frequency\")\n",
    "\n",
    "# Analyze vocabulary for Arxiv documents\n",
    "arxiv_docs = corpus.get_documents_by_type(\"Arxiv\")  # Retrieve documents of type \"Arxiv\"\n",
    "arxiv_corpus = Corpus(\n",
    "    \"Arxiv Analysis\"\n",
    ")  # Create a new Corpus instance for Arxiv analysis\n",
    "\n",
    "# Add each Arxiv document to the Arxiv corpus\n",
    "for doc in arxiv_docs:\n",
    "    arxiv_corpus.add(doc)\n",
    "\n",
    "# Build the vocabulary for the Arxiv corpus\n",
    "arxiv_vocab = arxiv_corpus.build_vocabulary()\n",
    "\n",
    "# Get the top 10 words by term frequency in the Arxiv vocabulary\n",
    "arxiv_top_words = arxiv_vocab.nlargest(10, \"term_frequency\")\n",
    "\n",
    "# Output the results to the console\n",
    "print(\n",
    "    \"Top 10 words in Reddit documents:\\n\", reddit_top_words\n",
    ")  # Display top words from Reddit\n",
    "print(\n",
    "    \"Top 10 words in Arxiv documents:\\n\", arxiv_top_words\n",
    ")  # Display top words from Arxiv"
   ]
  },
  {
   "cell_type": "code",
   "execution_count": 2,
   "id": "6a14de5d-ba52-4640-9ebe-72c6d8e3f147",
   "metadata": {},
   "outputs": [
    {
     "name": "stdout",
     "output_type": "stream",
     "text": [
      "Frequency of 'Coronavirus' over time:\n",
      " 2024      4.0\n",
      "2023      9.0\n",
      "2021     54.0\n",
      "2022     22.0\n",
      "2020    177.0\n",
      "2013      1.0\n",
      "2012      1.0\n",
      "2014      0.0\n",
      "2016      0.0\n",
      "Name: Coronavirus, dtype: float64\n"
     ]
    },
    {
     "data": {
      "image/png": "[encoded data removed]",
      "text/plain": [
       "<Figure size 1200x600 with 1 Axes>"
      ]
     },
     "metadata": {},
     "output_type": "display_data"
    }
   ],
   "source": [
    "# Specify the word for which to calculate frequency over time\n",
    "word = \"Coronavirus\"  # Replace with the word you want to track\n",
    "\n",
    "# Calculate the frequency of the specified word over time using the corpus\n",
    "frequency_df = corpus.frequency_over_time(word)\n",
    "\n",
    "# Display the frequency data for the specified word over time\n",
    "print(f\"Frequency of '{word}' over time:\\n\", frequency_df)\n",
    "\n",
    "# Optionally, visualize the results using Matplotlib\n",
    "import matplotlib.pyplot as plt  # Import the Matplotlib library for plotting\n",
    "\n",
    "# Create a bar plot to visualize the frequency of the word over time\n",
    "frequency_df.plot(kind=\"bar\", figsize=(12, 6), title=f\"Frequency of '{word}' Over Time\")\n",
    "plt.xlabel(\"Time Period\")  # Label for the x-axis\n",
    "plt.ylabel(\"Frequency\")  # Label for the y-axis\n",
    "plt.xticks(rotation=45)  # Rotate x-axis labels for better readability\n",
    "plt.show()  # Display the plot"
   ]
  },
  {
   "cell_type": "code",
   "execution_count": 3,
   "id": "b53c9b97-dc62-42dc-96c5-de437fc3b680",
   "metadata": {},
   "outputs": [
    {
     "name": "stdout",
     "output_type": "stream",
     "text": [
      "TF-IDF Scores:\n",
      "                  word     tfidf\n",
      "33                the  0.029659\n",
      "31                 of  0.019571\n",
      "10                and  0.016392\n",
      "2                  to  0.012594\n",
      "146                 a  0.010605\n",
      "...               ...       ...\n",
      "8785     biologically  0.000037\n",
      "8786           gargle  0.000037\n",
      "18965        ability.  0.000037\n",
      "18967    non-specific  0.000037\n",
      "18968  immunoglobulin  0.000037\n",
      "\n",
      "[18996 rows x 2 columns]\n"
     ]
    }
   ],
   "source": [
    "# Calculate the Term Frequency-Inverse Document Frequency (TF-IDF) scores for the documents in the corpus\n",
    "tfidf_df = corpus.calculate_tf_idf()\n",
    "\n",
    "# Display the calculated TF-IDF scores\n",
    "print(\"TF-IDF Scores:\\n\", tfidf_df)"
   ]
  },
  {
   "cell_type": "code",
   "execution_count": 4,
   "id": "1b82e802-0ed3-475b-8675-980d2e03cc19",
   "metadata": {},
   "outputs": [
    {
     "name": "stdout",
     "output_type": "stream",
     "text": [
      "BM25 Scores:\n",
      "           word        bm25\n",
      "0  Coronavirus  355.109766\n"
     ]
    }
   ],
   "source": [
    "# Calculate BM25 scores for a sample query\n",
    "query = [\"Coronavirus\"]  # Replace with your words of interest\n",
    "bm25_df = corpus.calculate_bm25(query)\n",
    "print(\"BM25 Scores:\\n\", bm25_df)"
   ]
  },
  {
   "cell_type": "code",
   "execution_count": 5,
   "id": "15d684dc-0f91-430d-bb05-d32223d44480",
   "metadata": {},
   "outputs": [
    {
     "name": "stdout",
     "output_type": "stream",
     "text": [
      "SearchEngine Vocabulary Built.\n",
      "SearchEngine Term Frequency Matrix built.\n",
      "SearchEngine TfIdf Matrix Built.\n"
     ]
    }
   ],
   "source": [
    "from models.SearchEngine import (\n",
    "    SearchEngine,\n",
    ")  # Import the SearchEngine class from the models module\n",
    "\n",
    "# Initialize the SearchEngine with the previously loaded corpus\n",
    "search_engine = SearchEngine(\n",
    "    corpus\n",
    ")  # Create an instance of SearchEngine using the corpus"
   ]
  },
  {
   "cell_type": "code",
   "execution_count": 6,
   "id": "6c602cfd-b51c-4ac7-b73e-6d082dd05ed5",
   "metadata": {
    "scrolled": true
   },
   "outputs": [
    {
     "data": {
      "application/vnd.jupyter.widget-view+json": {
       "model_id": "b51996fa94ee40a99396545815a11b08",
       "version_major": 2,
       "version_minor": 0
      },
      "text/plain": [
       "VBox(children=(Label(value='Search Engine Interface'), Text(value='', description='Keywords:', placeholder='En…"
      ]
     },
     "metadata": {},
     "output_type": "display_data"
    }
   ],
   "source": [
    "import ipywidgets as widgets  # Import the ipywidgets library for creating interactive widgets\n",
    "from IPython.display import (\n",
    "    display,\n",
    ")  # Import display function to show widgets in Jupyter\n",
    "\n",
    "# Create a label for the title of the search interface\n",
    "title_label = widgets.Label(value=\"Search Engine Interface\")\n",
    "\n",
    "# Create a text input for entering keywords\n",
    "keywords_input = widgets.Text(\n",
    "    description=\"Keywords:\", placeholder=\"Enter keywords separated by commas\"\n",
    ")\n",
    "\n",
    "# Create an IntSlider for selecting the number of documents to return\n",
    "num_docs_slider = widgets.IntSlider(\n",
    "    value=1,  # Default value set to 1\n",
    "    min=1,\n",
    "    max=100,\n",
    "    step=1,\n",
    "    description=\"Num Docs:\",\n",
    "    continuous_update=False,  # Update only when the slider is released\n",
    ")\n",
    "\n",
    "# Extract authors from the corpus for the author filter\n",
    "authors = [\n",
    "    author.name\n",
    "    for _, author in corpus.authors.items()\n",
    "    if isinstance(author.name, str) and author.name\n",
    "]\n",
    "\n",
    "# Create a Combobox for selecting an author filter\n",
    "author_filter = widgets.Combobox(\n",
    "    options=[\n",
    "        \"All Authors\",\n",
    "        *authors,\n",
    "    ],  # Include all authors and an option for \"All Authors\"\n",
    "    value=\"All Authors\",\n",
    "    description=\"Author:\",\n",
    "    placeholder=\"Search or select an author\",\n",
    "    ensure_option=True,  # Ensure that the input matches an option\n",
    ")\n",
    "\n",
    "# Create a dropdown for selecting document type\n",
    "doc_types = [\"All Types\", \"Reddit\", \"Arxiv\"]  # Adjust based on your document types\n",
    "doc_type_filter = widgets.Dropdown(\n",
    "    options=doc_types, value=\"All Types\", description=\"Doc Type:\"\n",
    ")\n",
    "\n",
    "# Create date range inputs for filtering results by date\n",
    "start_date_input = widgets.DatePicker(description=\"Start Date\", disabled=False)\n",
    "end_date_input = widgets.DatePicker(description=\"End Date\", disabled=False)\n",
    "\n",
    "# Create a button to trigger the search action\n",
    "search_button = widgets.Button(description=\"Search\")\n",
    "\n",
    "# Create an Output widget to display the search results\n",
    "output_area = widgets.Output()\n",
    "\n",
    "# Add all widgets to a vertical box layout for the interface\n",
    "ui_with_filters = widgets.VBox(\n",
    "    [\n",
    "        title_label,\n",
    "        keywords_input,\n",
    "        num_docs_slider,\n",
    "        author_filter,\n",
    "        doc_type_filter,\n",
    "        start_date_input,\n",
    "        end_date_input,\n",
    "        search_button,\n",
    "        output_area,\n",
    "    ]\n",
    ")\n",
    "\n",
    "# Display the user interface with filters\n",
    "display(ui_with_filters)\n",
    "\n",
    "\n",
    "def on_search_button_click_with_filters(b):\n",
    "    # Clear previous output in the output area\n",
    "    output_area.clear_output()\n",
    "\n",
    "    # Get values from the input widgets\n",
    "    keywords = keywords_input.value\n",
    "    num_docs = num_docs_slider.value\n",
    "    author = author_filter.value if author_filter.value != \"All Authors\" else None\n",
    "    doc_type = doc_type_filter.value if doc_type_filter.value != \"All Types\" else None\n",
    "    start_date = start_date_input.value\n",
    "    end_date = end_date_input.value\n",
    "\n",
    "    # Display the search results in the Output area\n",
    "    with output_area:\n",
    "        results = search_engine.search_with_filters(\n",
    "            keywords,\n",
    "            num_docs,\n",
    "            authors=[author] if author else None,\n",
    "            doc_type=doc_type if doc_type else None,\n",
    "            start_date=start_date,\n",
    "            end_date=end_date,\n",
    "        )\n",
    "\n",
    "        # Filter out results with score <= 0\n",
    "        results = results[results[\"score\"] > 0]\n",
    "\n",
    "        if results.empty:\n",
    "            display(\"No results found.\")  # Display message if no results are found\n",
    "            return\n",
    "\n",
    "        # Display details for each result\n",
    "        for index, result in results.iterrows():\n",
    "            display(\"***************Doc Details****************\")\n",
    "            display(f\"Title: {result.document.titre}\")\n",
    "            display(f\"Author: {result.document.authors}\")\n",
    "            display(f\"Date: {result.document.date}\")\n",
    "            display(f\"Link: {result.document.url}\")\n",
    "            display(f\"Type: {result.document.type}\")\n",
    "            display(\"***************Text****************\")\n",
    "            display(f\"{result.document.texte}\")\n",
    "\n",
    "            display(\n",
    "                f\"************{index + 1}.{result.author}************\"  # Adjusting for 1-based index\n",
    "            )\n",
    "            display(result.document.texte)\n",
    "\n",
    "\n",
    "# Bind the button click event to the search function\n",
    "search_button.on_click(on_search_button_click_with_filters)"
   ]
  },
  {
   "cell_type": "code",
   "execution_count": null,
   "id": "b87de94e-cb55-41ad-a5bb-7b24936e05b1",
   "metadata": {},
   "outputs": [],
   "source": []
  }
 ],
 "metadata": {
  "kernelspec": {
   "display_name": "Python 3 (ipykernel)",
   "language": "python",
   "name": "python3"
  },
  "language_info": {
   "codemirror_mode": {
    "name": "ipython",
    "version": 3
   },
   "file_extension": ".py",
   "mimetype": "text/x-python",
   "name": "python",
   "nbconvert_exporter": "python",
   "pygments_lexer": "ipython3",
   "version": "3.10.16"
  }
 },
 "nbformat": 4,
 "nbformat_minor": 5
}
